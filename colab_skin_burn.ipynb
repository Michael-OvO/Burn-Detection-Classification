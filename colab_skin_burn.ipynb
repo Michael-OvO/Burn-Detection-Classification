{
  "cells": [
    {
      "cell_type": "markdown",
      "metadata": {
        "colab_type": "text",
        "id": "view-in-github"
      },
      "source": [
        "<a href=\"https://colab.research.google.com/github/Michael-OvO/Burn-Detection-Classification/blob/main/colab_skin_burn.ipynb\" target=\"_parent\"><img src=\"https://colab.research.google.com/assets/colab-badge.svg\" alt=\"Open In Colab\"/></a>"
      ]
    },
    {
      "cell_type": "markdown",
      "id": "421ac32d",
      "metadata": {
        "id": "421ac32d",
        "papermill": {
          "duration": 0.005789,
          "end_time": "2022-08-18T02:50:05.944285",
          "exception": false,
          "start_time": "2022-08-18T02:50:05.938496",
          "status": "completed"
        },
        "tags": []
      },
      "source": [
        "# Skin Burn Demo notebook trained on Yolov5S\n",
        "Github Repo: https://github.com/Michael-OvO/Skin-Burn-Detection\n",
        "\n",
        "Credit: This is a small demo for training our dataset on Yolov5M, which can achieve a decent result.\n",
        "\n",
        "Author: Michael\n",
        "\n",
        "created: 2022.8.16\n",
        "\n",
        "<a href=\"https://www.kaggle.com/code/michaelwovo/skin-burn?scriptVersionId=103621232\" target=\"_blank\"><img align=\"left\" alt=\"Kaggle\" title=\"Open in Kaggle\" src=\"https://kaggle.com/static/images/open-in-kaggle.svg\"></a> [![Open In Colab](https://colab.research.google.com/assets/colab-badge.svg)](https://colab.research.google.com/drive/1V-DgSnndIIplbgneqjApspXKpzdBUkiL)"
      ]
    },
    {
      "cell_type": "markdown",
      "id": "119b9db1",
      "metadata": {
        "id": "119b9db1",
        "papermill": {
          "duration": 0.003788,
          "end_time": "2022-08-18T02:50:05.952348",
          "exception": false,
          "start_time": "2022-08-18T02:50:05.94856",
          "status": "completed"
        },
        "tags": []
      },
      "source": [
        "# If you enjoyed this small demo please take a look at my github repo (Not finished yet, but give it a star or watch it) as I will be putting the rest of the materials up soon.\n",
        "link to the repo: https://github.com/Michael-OvO/Skin-Burn-Detection\n",
        "Thank you all for supporting!"
      ]
    },
    {
      "cell_type": "markdown",
      "id": "74a97f80",
      "metadata": {
        "id": "74a97f80",
        "papermill": {
          "duration": 0.003956,
          "end_time": "2022-08-18T02:50:05.960389",
          "exception": false,
          "start_time": "2022-08-18T02:50:05.956433",
          "status": "completed"
        },
        "tags": []
      },
      "source": [
        "## 1. Check hardware and set up the environment\n",
        "Check GPU and install enviornments"
      ]
    },
    {
      "cell_type": "code",
      "execution_count": 1,
      "id": "4acb144c",
      "metadata": {
        "colab": {
          "base_uri": "https://localhost:8080/"
        },
        "execution": {
          "iopub.execute_input": "2022-08-18T02:50:05.970712Z",
          "iopub.status.busy": "2022-08-18T02:50:05.970139Z",
          "iopub.status.idle": "2022-08-18T02:50:07.039283Z",
          "shell.execute_reply": "2022-08-18T02:50:07.038061Z"
        },
        "id": "4acb144c",
        "outputId": "4227822d-da7e-42ff-da98-0cddf8e7d996",
        "papermill": {
          "duration": 1.077533,
          "end_time": "2022-08-18T02:50:07.041917",
          "exception": false,
          "start_time": "2022-08-18T02:50:05.964384",
          "status": "completed"
        },
        "tags": []
      },
      "outputs": [
        {
          "name": "stdout",
          "output_type": "stream",
          "text": [
            "Thu Aug 18 14:18:41 2022       \n",
            "+-----------------------------------------------------------------------------+\n",
            "| NVIDIA-SMI 460.32.03    Driver Version: 460.32.03    CUDA Version: 11.2     |\n",
            "|-------------------------------+----------------------+----------------------+\n",
            "| GPU  Name        Persistence-M| Bus-Id        Disp.A | Volatile Uncorr. ECC |\n",
            "| Fan  Temp  Perf  Pwr:Usage/Cap|         Memory-Usage | GPU-Util  Compute M. |\n",
            "|                               |                      |               MIG M. |\n",
            "|===============================+======================+======================|\n",
            "|   0  Tesla T4            Off  | 00000000:00:04.0 Off |                    0 |\n",
            "| N/A   40C    P8     9W /  70W |      0MiB / 15109MiB |      0%      Default |\n",
            "|                               |                      |                  N/A |\n",
            "+-------------------------------+----------------------+----------------------+\n",
            "                                                                               \n",
            "+-----------------------------------------------------------------------------+\n",
            "| Processes:                                                                  |\n",
            "|  GPU   GI   CI        PID   Type   Process name                  GPU Memory |\n",
            "|        ID   ID                                                   Usage      |\n",
            "|=============================================================================|\n",
            "|  No running processes found                                                 |\n",
            "+-----------------------------------------------------------------------------+\n"
          ]
        }
      ],
      "source": [
        "!nvidia-smi"
      ]
    },
    {
      "cell_type": "markdown",
      "id": "6bbda0c6",
      "metadata": {
        "id": "6bbda0c6",
        "papermill": {
          "duration": 0.004046,
          "end_time": "2022-08-18T02:50:07.050424",
          "exception": false,
          "start_time": "2022-08-18T02:50:07.046378",
          "status": "completed"
        },
        "tags": []
      },
      "source": [
        "git clone the yolov5 repo"
      ]
    },
    {
      "cell_type": "code",
      "execution_count": 2,
      "id": "6f22519f",
      "metadata": {
        "colab": {
          "base_uri": "https://localhost:8080/"
        },
        "execution": {
          "iopub.execute_input": "2022-08-18T02:50:07.061354Z",
          "iopub.status.busy": "2022-08-18T02:50:07.060568Z",
          "iopub.status.idle": "2022-08-18T02:50:10.331764Z",
          "shell.execute_reply": "2022-08-18T02:50:10.330345Z"
        },
        "id": "6f22519f",
        "outputId": "45c26ff5-7720-4f2e-abae-6aa7deb7e26e",
        "papermill": {
          "duration": 3.279447,
          "end_time": "2022-08-18T02:50:10.333982",
          "exception": false,
          "start_time": "2022-08-18T02:50:07.054535",
          "status": "completed"
        },
        "tags": []
      },
      "outputs": [
        {
          "name": "stdout",
          "output_type": "stream",
          "text": [
            "Cloning into 'yolov5'...\n",
            "remote: Enumerating objects: 13306, done.\u001b[K\n",
            "remote: Counting objects: 100% (304/304), done.\u001b[K\n",
            "remote: Compressing objects: 100% (163/163), done.\u001b[K\n",
            "remote: Total 13306 (delta 176), reused 253 (delta 141), pack-reused 13002\u001b[K\n",
            "Receiving objects: 100% (13306/13306), 12.80 MiB | 32.43 MiB/s, done.\n",
            "Resolving deltas: 100% (9086/9086), done.\n",
            "/content/yolov5\n"
          ]
        }
      ],
      "source": [
        "!git clone https://github.com/ultralytics/yolov5  # clone repo\n",
        "%cd yolov5"
      ]
    },
    {
      "cell_type": "markdown",
      "id": "de50d04e",
      "metadata": {
        "id": "de50d04e",
        "papermill": {
          "duration": 0.005458,
          "end_time": "2022-08-18T02:50:10.345704",
          "exception": false,
          "start_time": "2022-08-18T02:50:10.340246",
          "status": "completed"
        },
        "tags": []
      },
      "source": [
        "install needed dependencies"
      ]
    },
    {
      "cell_type": "code",
      "execution_count": 3,
      "id": "3791de5a",
      "metadata": {
        "colab": {
          "base_uri": "https://localhost:8080/"
        },
        "execution": {
          "iopub.execute_input": "2022-08-18T02:50:10.360382Z",
          "iopub.status.busy": "2022-08-18T02:50:10.359675Z",
          "iopub.status.idle": "2022-08-18T02:50:22.79334Z",
          "shell.execute_reply": "2022-08-18T02:50:22.792083Z"
        },
        "id": "3791de5a",
        "outputId": "dd487cbe-9b8e-45f2-ed17-465d7a5a348e",
        "papermill": {
          "duration": 12.444021,
          "end_time": "2022-08-18T02:50:22.7959",
          "exception": false,
          "start_time": "2022-08-18T02:50:10.351879",
          "status": "completed"
        },
        "tags": []
      },
      "outputs": [
        {
          "name": "stdout",
          "output_type": "stream",
          "text": [
            "Looking in indexes: https://pypi.org/simple, https://us-python.pkg.dev/colab-wheels/public/simple/\n",
            "Requirement already satisfied: matplotlib>=3.2.2 in /usr/local/lib/python3.7/dist-packages (from -r requirements.txt (line 5)) (3.2.2)\n",
            "Requirement already satisfied: numpy>=1.18.5 in /usr/local/lib/python3.7/dist-packages (from -r requirements.txt (line 6)) (1.21.6)\n",
            "Requirement already satisfied: opencv-python>=4.1.1 in /usr/local/lib/python3.7/dist-packages (from -r requirements.txt (line 7)) (4.6.0.66)\n",
            "Requirement already satisfied: Pillow>=7.1.2 in /usr/local/lib/python3.7/dist-packages (from -r requirements.txt (line 8)) (7.1.2)\n",
            "Collecting PyYAML>=5.3.1\n",
            "  Downloading PyYAML-6.0-cp37-cp37m-manylinux_2_5_x86_64.manylinux1_x86_64.manylinux_2_12_x86_64.manylinux2010_x86_64.whl (596 kB)\n",
            "\u001b[K     |████████████████████████████████| 596 kB 32.5 MB/s \n",
            "\u001b[?25hRequirement already satisfied: requests>=2.23.0 in /usr/local/lib/python3.7/dist-packages (from -r requirements.txt (line 10)) (2.23.0)\n",
            "Requirement already satisfied: scipy>=1.4.1 in /usr/local/lib/python3.7/dist-packages (from -r requirements.txt (line 11)) (1.7.3)\n",
            "Requirement already satisfied: torch>=1.7.0 in /usr/local/lib/python3.7/dist-packages (from -r requirements.txt (line 12)) (1.12.1+cu113)\n",
            "Requirement already satisfied: torchvision>=0.8.1 in /usr/local/lib/python3.7/dist-packages (from -r requirements.txt (line 13)) (0.13.1+cu113)\n",
            "Requirement already satisfied: tqdm>=4.64.0 in /usr/local/lib/python3.7/dist-packages (from -r requirements.txt (line 14)) (4.64.0)\n",
            "Requirement already satisfied: protobuf<=3.20.1 in /usr/local/lib/python3.7/dist-packages (from -r requirements.txt (line 15)) (3.17.3)\n",
            "Requirement already satisfied: tensorboard>=2.4.1 in /usr/local/lib/python3.7/dist-packages (from -r requirements.txt (line 18)) (2.9.1)\n",
            "Requirement already satisfied: pandas>=1.1.4 in /usr/local/lib/python3.7/dist-packages (from -r requirements.txt (line 23)) (1.3.5)\n",
            "Requirement already satisfied: seaborn>=0.11.0 in /usr/local/lib/python3.7/dist-packages (from -r requirements.txt (line 24)) (0.11.2)\n",
            "Requirement already satisfied: ipython in /usr/local/lib/python3.7/dist-packages (from -r requirements.txt (line 38)) (7.9.0)\n",
            "Requirement already satisfied: psutil in /usr/local/lib/python3.7/dist-packages (from -r requirements.txt (line 39)) (5.4.8)\n",
            "Collecting thop>=0.1.1\n",
            "  Downloading thop-0.1.1.post2207130030-py3-none-any.whl (15 kB)\n",
            "Requirement already satisfied: kiwisolver>=1.0.1 in /usr/local/lib/python3.7/dist-packages (from matplotlib>=3.2.2->-r requirements.txt (line 5)) (1.4.4)\n",
            "Requirement already satisfied: cycler>=0.10 in /usr/local/lib/python3.7/dist-packages (from matplotlib>=3.2.2->-r requirements.txt (line 5)) (0.11.0)\n",
            "Requirement already satisfied: python-dateutil>=2.1 in /usr/local/lib/python3.7/dist-packages (from matplotlib>=3.2.2->-r requirements.txt (line 5)) (2.8.2)\n",
            "Requirement already satisfied: pyparsing!=2.0.4,!=2.1.2,!=2.1.6,>=2.0.1 in /usr/local/lib/python3.7/dist-packages (from matplotlib>=3.2.2->-r requirements.txt (line 5)) (3.0.9)\n",
            "Requirement already satisfied: certifi>=2017.4.17 in /usr/local/lib/python3.7/dist-packages (from requests>=2.23.0->-r requirements.txt (line 10)) (2022.6.15)\n",
            "Requirement already satisfied: urllib3!=1.25.0,!=1.25.1,<1.26,>=1.21.1 in /usr/local/lib/python3.7/dist-packages (from requests>=2.23.0->-r requirements.txt (line 10)) (1.24.3)\n",
            "Requirement already satisfied: chardet<4,>=3.0.2 in /usr/local/lib/python3.7/dist-packages (from requests>=2.23.0->-r requirements.txt (line 10)) (3.0.4)\n",
            "Requirement already satisfied: idna<3,>=2.5 in /usr/local/lib/python3.7/dist-packages (from requests>=2.23.0->-r requirements.txt (line 10)) (2.10)\n",
            "Requirement already satisfied: typing-extensions in /usr/local/lib/python3.7/dist-packages (from torch>=1.7.0->-r requirements.txt (line 12)) (4.1.1)\n",
            "Requirement already satisfied: six>=1.9 in /usr/local/lib/python3.7/dist-packages (from protobuf<=3.20.1->-r requirements.txt (line 15)) (1.15.0)\n",
            "Requirement already satisfied: wheel>=0.26 in /usr/local/lib/python3.7/dist-packages (from tensorboard>=2.4.1->-r requirements.txt (line 18)) (0.37.1)\n",
            "Requirement already satisfied: tensorboard-data-server<0.7.0,>=0.6.0 in /usr/local/lib/python3.7/dist-packages (from tensorboard>=2.4.1->-r requirements.txt (line 18)) (0.6.1)\n",
            "Requirement already satisfied: setuptools>=41.0.0 in /usr/local/lib/python3.7/dist-packages (from tensorboard>=2.4.1->-r requirements.txt (line 18)) (57.4.0)\n",
            "Requirement already satisfied: markdown>=2.6.8 in /usr/local/lib/python3.7/dist-packages (from tensorboard>=2.4.1->-r requirements.txt (line 18)) (3.4.1)\n",
            "Requirement already satisfied: tensorboard-plugin-wit>=1.6.0 in /usr/local/lib/python3.7/dist-packages (from tensorboard>=2.4.1->-r requirements.txt (line 18)) (1.8.1)\n",
            "Requirement already satisfied: absl-py>=0.4 in /usr/local/lib/python3.7/dist-packages (from tensorboard>=2.4.1->-r requirements.txt (line 18)) (1.2.0)\n",
            "Requirement already satisfied: grpcio>=1.24.3 in /usr/local/lib/python3.7/dist-packages (from tensorboard>=2.4.1->-r requirements.txt (line 18)) (1.47.0)\n",
            "Requirement already satisfied: google-auth-oauthlib<0.5,>=0.4.1 in /usr/local/lib/python3.7/dist-packages (from tensorboard>=2.4.1->-r requirements.txt (line 18)) (0.4.6)\n",
            "Requirement already satisfied: werkzeug>=1.0.1 in /usr/local/lib/python3.7/dist-packages (from tensorboard>=2.4.1->-r requirements.txt (line 18)) (1.0.1)\n",
            "Requirement already satisfied: google-auth<3,>=1.6.3 in /usr/local/lib/python3.7/dist-packages (from tensorboard>=2.4.1->-r requirements.txt (line 18)) (1.35.0)\n",
            "Requirement already satisfied: pytz>=2017.3 in /usr/local/lib/python3.7/dist-packages (from pandas>=1.1.4->-r requirements.txt (line 23)) (2022.2)\n",
            "Requirement already satisfied: pyasn1-modules>=0.2.1 in /usr/local/lib/python3.7/dist-packages (from google-auth<3,>=1.6.3->tensorboard>=2.4.1->-r requirements.txt (line 18)) (0.2.8)\n",
            "Requirement already satisfied: cachetools<5.0,>=2.0.0 in /usr/local/lib/python3.7/dist-packages (from google-auth<3,>=1.6.3->tensorboard>=2.4.1->-r requirements.txt (line 18)) (4.2.4)\n",
            "Requirement already satisfied: rsa<5,>=3.1.4 in /usr/local/lib/python3.7/dist-packages (from google-auth<3,>=1.6.3->tensorboard>=2.4.1->-r requirements.txt (line 18)) (4.9)\n",
            "Requirement already satisfied: requests-oauthlib>=0.7.0 in /usr/local/lib/python3.7/dist-packages (from google-auth-oauthlib<0.5,>=0.4.1->tensorboard>=2.4.1->-r requirements.txt (line 18)) (1.3.1)\n",
            "Requirement already satisfied: importlib-metadata>=4.4 in /usr/local/lib/python3.7/dist-packages (from markdown>=2.6.8->tensorboard>=2.4.1->-r requirements.txt (line 18)) (4.12.0)\n",
            "Requirement already satisfied: zipp>=0.5 in /usr/local/lib/python3.7/dist-packages (from importlib-metadata>=4.4->markdown>=2.6.8->tensorboard>=2.4.1->-r requirements.txt (line 18)) (3.8.1)\n",
            "Requirement already satisfied: pyasn1<0.5.0,>=0.4.6 in /usr/local/lib/python3.7/dist-packages (from pyasn1-modules>=0.2.1->google-auth<3,>=1.6.3->tensorboard>=2.4.1->-r requirements.txt (line 18)) (0.4.8)\n",
            "Requirement already satisfied: oauthlib>=3.0.0 in /usr/local/lib/python3.7/dist-packages (from requests-oauthlib>=0.7.0->google-auth-oauthlib<0.5,>=0.4.1->tensorboard>=2.4.1->-r requirements.txt (line 18)) (3.2.0)\n",
            "Requirement already satisfied: pickleshare in /usr/local/lib/python3.7/dist-packages (from ipython->-r requirements.txt (line 38)) (0.7.5)\n",
            "Requirement already satisfied: traitlets>=4.2 in /usr/local/lib/python3.7/dist-packages (from ipython->-r requirements.txt (line 38)) (5.1.1)\n",
            "Collecting jedi>=0.10\n",
            "  Downloading jedi-0.18.1-py2.py3-none-any.whl (1.6 MB)\n",
            "\u001b[K     |████████████████████████████████| 1.6 MB 58.4 MB/s \n",
            "\u001b[?25hRequirement already satisfied: prompt-toolkit<2.1.0,>=2.0.0 in /usr/local/lib/python3.7/dist-packages (from ipython->-r requirements.txt (line 38)) (2.0.10)\n",
            "Requirement already satisfied: backcall in /usr/local/lib/python3.7/dist-packages (from ipython->-r requirements.txt (line 38)) (0.2.0)\n",
            "Requirement already satisfied: pygments in /usr/local/lib/python3.7/dist-packages (from ipython->-r requirements.txt (line 38)) (2.6.1)\n",
            "Requirement already satisfied: pexpect in /usr/local/lib/python3.7/dist-packages (from ipython->-r requirements.txt (line 38)) (4.8.0)\n",
            "Requirement already satisfied: decorator in /usr/local/lib/python3.7/dist-packages (from ipython->-r requirements.txt (line 38)) (4.4.2)\n",
            "Requirement already satisfied: parso<0.9.0,>=0.8.0 in /usr/local/lib/python3.7/dist-packages (from jedi>=0.10->ipython->-r requirements.txt (line 38)) (0.8.3)\n",
            "Requirement already satisfied: wcwidth in /usr/local/lib/python3.7/dist-packages (from prompt-toolkit<2.1.0,>=2.0.0->ipython->-r requirements.txt (line 38)) (0.2.5)\n",
            "Requirement already satisfied: ptyprocess>=0.5 in /usr/local/lib/python3.7/dist-packages (from pexpect->ipython->-r requirements.txt (line 38)) (0.7.0)\n",
            "Installing collected packages: jedi, thop, PyYAML\n",
            "  Attempting uninstall: PyYAML\n",
            "    Found existing installation: PyYAML 3.13\n",
            "    Uninstalling PyYAML-3.13:\n",
            "      Successfully uninstalled PyYAML-3.13\n",
            "Successfully installed PyYAML-6.0 jedi-0.18.1 thop-0.1.1.post2207130030\n"
          ]
        }
      ],
      "source": [
        "!pip install -r requirements.txt  # install dependencies (ignore errors)"
      ]
    },
    {
      "cell_type": "markdown",
      "id": "3e22dfb9",
      "metadata": {
        "id": "3e22dfb9",
        "papermill": {
          "duration": 0.00626,
          "end_time": "2022-08-18T02:50:22.809015",
          "exception": false,
          "start_time": "2022-08-18T02:50:22.802755",
          "status": "completed"
        },
        "tags": []
      },
      "source": [
        "prepare dataset"
      ]
    },
    {
      "cell_type": "code",
      "execution_count": 4,
      "id": "9ad23377",
      "metadata": {
        "colab": {
          "base_uri": "https://localhost:8080/",
          "height": 1000
        },
        "execution": {
          "iopub.execute_input": "2022-08-18T02:50:22.824864Z",
          "iopub.status.busy": "2022-08-18T02:50:22.823939Z",
          "iopub.status.idle": "2022-08-18T02:50:51.994898Z",
          "shell.execute_reply": "2022-08-18T02:50:51.993682Z"
        },
        "id": "9ad23377",
        "outputId": "e35e1d92-5d94-4025-e578-c4892d1cf260",
        "papermill": {
          "duration": 29.181828,
          "end_time": "2022-08-18T02:50:51.997392",
          "exception": false,
          "start_time": "2022-08-18T02:50:22.815564",
          "status": "completed"
        },
        "tags": []
      },
      "outputs": [
        {
          "name": "stdout",
          "output_type": "stream",
          "text": [
            "Looking in indexes: https://pypi.org/simple, https://us-python.pkg.dev/colab-wheels/public/simple/\n",
            "Collecting roboflow\n",
            "  Downloading roboflow-0.2.14.tar.gz (18 kB)\n",
            "Collecting certifi==2021.5.30\n",
            "  Downloading certifi-2021.5.30-py2.py3-none-any.whl (145 kB)\n",
            "\u001b[K     |████████████████████████████████| 145 kB 29.8 MB/s \n",
            "\u001b[?25hCollecting chardet==4.0.0\n",
            "  Downloading chardet-4.0.0-py2.py3-none-any.whl (178 kB)\n",
            "\u001b[K     |████████████████████████████████| 178 kB 66.6 MB/s \n",
            "\u001b[?25hCollecting cycler==0.10.0\n",
            "  Downloading cycler-0.10.0-py2.py3-none-any.whl (6.5 kB)\n",
            "Requirement already satisfied: glob2 in /usr/local/lib/python3.7/dist-packages (from roboflow) (0.7)\n",
            "Requirement already satisfied: idna==2.10 in /usr/local/lib/python3.7/dist-packages (from roboflow) (2.10)\n",
            "Collecting kiwisolver==1.3.1\n",
            "  Downloading kiwisolver-1.3.1-cp37-cp37m-manylinux1_x86_64.whl (1.1 MB)\n",
            "\u001b[K     |████████████████████████████████| 1.1 MB 68.2 MB/s \n",
            "\u001b[?25hRequirement already satisfied: matplotlib in /usr/local/lib/python3.7/dist-packages (from roboflow) (3.2.2)\n",
            "Requirement already satisfied: numpy>=1.18.5 in /usr/local/lib/python3.7/dist-packages (from roboflow) (1.21.6)\n",
            "Requirement already satisfied: opencv-python-headless>=4.5.1.48 in /usr/local/lib/python3.7/dist-packages (from roboflow) (4.6.0.66)\n",
            "Requirement already satisfied: Pillow>=7.1.2 in /usr/local/lib/python3.7/dist-packages (from roboflow) (7.1.2)\n",
            "Collecting pyparsing==2.4.7\n",
            "  Downloading pyparsing-2.4.7-py2.py3-none-any.whl (67 kB)\n",
            "\u001b[K     |████████████████████████████████| 67 kB 8.1 MB/s \n",
            "\u001b[?25hRequirement already satisfied: python-dateutil in /usr/local/lib/python3.7/dist-packages (from roboflow) (2.8.2)\n",
            "Collecting python-dotenv\n",
            "  Downloading python_dotenv-0.20.0-py3-none-any.whl (17 kB)\n",
            "Requirement already satisfied: requests in /usr/local/lib/python3.7/dist-packages (from roboflow) (2.23.0)\n",
            "Collecting requests_toolbelt\n",
            "  Downloading requests_toolbelt-0.9.1-py2.py3-none-any.whl (54 kB)\n",
            "\u001b[K     |████████████████████████████████| 54 kB 4.1 MB/s \n",
            "\u001b[?25hRequirement already satisfied: six in /usr/local/lib/python3.7/dist-packages (from roboflow) (1.15.0)\n",
            "Collecting urllib3==1.26.6\n",
            "  Downloading urllib3-1.26.6-py2.py3-none-any.whl (138 kB)\n",
            "\u001b[K     |████████████████████████████████| 138 kB 76.0 MB/s \n",
            "\u001b[?25hCollecting wget\n",
            "  Downloading wget-3.2.zip (10 kB)\n",
            "Requirement already satisfied: tqdm>=4.41.0 in /usr/local/lib/python3.7/dist-packages (from roboflow) (4.64.0)\n",
            "Requirement already satisfied: PyYAML>=5.3.1 in /usr/local/lib/python3.7/dist-packages (from roboflow) (6.0)\n",
            "Collecting requests\n",
            "  Downloading requests-2.28.1-py3-none-any.whl (62 kB)\n",
            "\u001b[K     |████████████████████████████████| 62 kB 2.0 MB/s \n",
            "\u001b[?25hRequirement already satisfied: charset-normalizer<3,>=2 in /usr/local/lib/python3.7/dist-packages (from requests->roboflow) (2.1.0)\n",
            "Building wheels for collected packages: roboflow, wget\n",
            "  Building wheel for roboflow (setup.py) ... \u001b[?25l\u001b[?25hdone\n",
            "  Created wheel for roboflow: filename=roboflow-0.2.14-py3-none-any.whl size=24837 sha256=227f2e861e48b3203e3320b102749fd1bc542337e34ef5821b07d474cf7e4ba1\n",
            "  Stored in directory: /root/.cache/pip/wheels/c7/84/36/a6a32c749ead923690d15d20443fb53fa2fe10beaa408f371b\n",
            "  Building wheel for wget (setup.py) ... \u001b[?25l\u001b[?25hdone\n",
            "  Created wheel for wget: filename=wget-3.2-py3-none-any.whl size=9675 sha256=4091bec9ab64dddd5ffc846b3320de07d95da3c00032d10864fc640d71f95c20\n",
            "  Stored in directory: /root/.cache/pip/wheels/a1/b6/7c/0e63e34eb06634181c63adacca38b79ff8f35c37e3c13e3c02\n",
            "Successfully built roboflow wget\n",
            "Installing collected packages: urllib3, certifi, requests, pyparsing, kiwisolver, cycler, wget, requests-toolbelt, python-dotenv, chardet, roboflow\n",
            "  Attempting uninstall: urllib3\n",
            "    Found existing installation: urllib3 1.24.3\n",
            "    Uninstalling urllib3-1.24.3:\n",
            "      Successfully uninstalled urllib3-1.24.3\n",
            "  Attempting uninstall: certifi\n",
            "    Found existing installation: certifi 2022.6.15\n",
            "    Uninstalling certifi-2022.6.15:\n",
            "      Successfully uninstalled certifi-2022.6.15\n",
            "  Attempting uninstall: requests\n",
            "    Found existing installation: requests 2.23.0\n",
            "    Uninstalling requests-2.23.0:\n",
            "      Successfully uninstalled requests-2.23.0\n",
            "  Attempting uninstall: pyparsing\n",
            "    Found existing installation: pyparsing 3.0.9\n",
            "    Uninstalling pyparsing-3.0.9:\n",
            "      Successfully uninstalled pyparsing-3.0.9\n",
            "  Attempting uninstall: kiwisolver\n",
            "    Found existing installation: kiwisolver 1.4.4\n",
            "    Uninstalling kiwisolver-1.4.4:\n",
            "      Successfully uninstalled kiwisolver-1.4.4\n",
            "  Attempting uninstall: cycler\n",
            "    Found existing installation: cycler 0.11.0\n",
            "    Uninstalling cycler-0.11.0:\n",
            "      Successfully uninstalled cycler-0.11.0\n",
            "  Attempting uninstall: chardet\n",
            "    Found existing installation: chardet 3.0.4\n",
            "    Uninstalling chardet-3.0.4:\n",
            "      Successfully uninstalled chardet-3.0.4\n",
            "Successfully installed certifi-2021.5.30 chardet-4.0.0 cycler-0.10.0 kiwisolver-1.3.1 pyparsing-2.4.7 python-dotenv-0.20.0 requests-2.28.1 requests-toolbelt-0.9.1 roboflow-0.2.14 urllib3-1.26.6 wget-3.2\n"
          ]
        },
        {
          "data": {
            "application/vnd.colab-display-data+json": {
              "pip_warning": {
                "packages": [
                  "cycler",
                  "kiwisolver",
                  "pyparsing"
                ]
              }
            }
          },
          "metadata": {},
          "output_type": "display_data"
        }
      ],
      "source": [
        "!pip install roboflow"
      ]
    },
    {
      "cell_type": "code",
      "execution_count": 5,
      "id": "72e52554",
      "metadata": {
        "colab": {
          "base_uri": "https://localhost:8080/"
        },
        "execution": {
          "iopub.execute_input": "2022-08-18T02:50:52.020225Z",
          "iopub.status.busy": "2022-08-18T02:50:52.019689Z",
          "iopub.status.idle": "2022-08-18T02:51:14.343305Z",
          "shell.execute_reply": "2022-08-18T02:51:14.341954Z"
        },
        "id": "72e52554",
        "outputId": "fcb0b4fd-70ec-43d8-f1c8-8ba33b5326cd",
        "papermill": {
          "duration": 25.734996,
          "end_time": "2022-08-18T02:51:17.742871",
          "exception": false,
          "start_time": "2022-08-18T02:50:52.007875",
          "status": "completed"
        },
        "tags": []
      },
      "outputs": [
        {
          "name": "stdout",
          "output_type": "stream",
          "text": [
            "loading Roboflow workspace...\n",
            "loading Roboflow project...\n",
            "Downloading Dataset Version Zip in skin_burn_detection-9 to yolov5pytorch: 100% [33840011 / 33840011] bytes\n"
          ]
        },
        {
          "name": "stderr",
          "output_type": "stream",
          "text": [
            "Extracting Dataset Version Zip to skin_burn_detection-9 in yolov5pytorch:: 100%|██████████| 5492/5492 [00:00<00:00, 6688.24it/s]\n"
          ]
        }
      ],
      "source": [
        "from roboflow import Roboflow\n",
        "rf = Roboflow(api_key=\"ayUn19nAlV2gQNRP8NI8\")\n",
        "project = rf.workspace(\"yingcai\").project(\"skin_burn_detection\")\n",
        "dataset = project.version(9).download(\"yolov5\")"
      ]
    },
    {
      "cell_type": "markdown",
      "id": "d6a5ebd6",
      "metadata": {
        "id": "d6a5ebd6",
        "papermill": {
          "duration": 0.818672,
          "end_time": "2022-08-18T02:51:19.469375",
          "exception": false,
          "start_time": "2022-08-18T02:51:18.650703",
          "status": "completed"
        },
        "tags": []
      },
      "source": [
        "## Check if the dataset is installed properly"
      ]
    },
    {
      "cell_type": "code",
      "execution_count": 6,
      "id": "04fac897",
      "metadata": {
        "colab": {
          "base_uri": "https://localhost:8080/"
        },
        "execution": {
          "iopub.execute_input": "2022-08-18T02:51:21.220878Z",
          "iopub.status.busy": "2022-08-18T02:51:21.22049Z",
          "iopub.status.idle": "2022-08-18T02:51:22.237498Z",
          "shell.execute_reply": "2022-08-18T02:51:22.236111Z"
        },
        "id": "04fac897",
        "outputId": "b45d811d-e2ff-40e7-f82f-cd7d8372d776",
        "papermill": {
          "duration": 1.89787,
          "end_time": "2022-08-18T02:51:22.240369",
          "exception": false,
          "start_time": "2022-08-18T02:51:20.342499",
          "status": "completed"
        },
        "tags": []
      },
      "outputs": [
        {
          "name": "stdout",
          "output_type": "stream",
          "text": [
            "classify\t export.py   README.md\t\t    train.py\n",
            "CONTRIBUTING.md  hubconf.py  requirements.txt\t    tutorial.ipynb\n",
            "data\t\t LICENSE     setup.cfg\t\t    utils\n",
            "detect.py\t models      skin_burn_detection-9  val.py\n"
          ]
        }
      ],
      "source": [
        "!ls"
      ]
    },
    {
      "cell_type": "markdown",
      "id": "dc3d76ae",
      "metadata": {
        "id": "dc3d76ae",
        "papermill": {
          "duration": 0.893818,
          "end_time": "2022-08-18T02:51:23.963001",
          "exception": false,
          "start_time": "2022-08-18T02:51:23.069183",
          "status": "completed"
        },
        "tags": []
      },
      "source": [
        "## Optional: Login to Wandb to track training results\n",
        "please set up your user secret as indicated in the comments below"
      ]
    },
    {
      "cell_type": "code",
      "execution_count": 7,
      "id": "a45c0a4b",
      "metadata": {
        "colab": {
          "base_uri": "https://localhost:8080/"
        },
        "execution": {
          "iopub.execute_input": "2022-08-18T02:51:26.595947Z",
          "iopub.status.busy": "2022-08-18T02:51:26.594936Z",
          "iopub.status.idle": "2022-08-18T02:51:40.340575Z",
          "shell.execute_reply": "2022-08-18T02:51:40.339297Z"
        },
        "id": "a45c0a4b",
        "outputId": "c17c1361-3e52-4fbd-9292-518bbefb5bcf",
        "papermill": {
          "duration": 14.644697,
          "end_time": "2022-08-18T02:51:40.343418",
          "exception": false,
          "start_time": "2022-08-18T02:51:25.698721",
          "status": "completed"
        },
        "tags": []
      },
      "outputs": [
        {
          "name": "stdout",
          "output_type": "stream",
          "text": [
            "\u001b[K     |████████████████████████████████| 1.8 MB 15.3 MB/s \n",
            "\u001b[K     |████████████████████████████████| 181 kB 60.6 MB/s \n",
            "\u001b[K     |████████████████████████████████| 157 kB 54.1 MB/s \n",
            "\u001b[K     |████████████████████████████████| 63 kB 2.2 MB/s \n",
            "\u001b[K     |████████████████████████████████| 139 kB 59.6 MB/s \n",
            "\u001b[?25h  Building wheel for pathtools (setup.py) ... \u001b[?25l\u001b[?25hdone\n",
            "\u001b[31mERROR: pip's dependency resolver does not currently take into account all the packages that are installed. This behaviour is the source of the following dependency conflicts.\n",
            "roboflow 0.2.14 requires urllib3==1.26.6, but you have urllib3 1.26.11 which is incompatible.\u001b[0m\n"
          ]
        }
      ],
      "source": [
        "!pip install --upgrade -q wandb"
      ]
    },
    {
      "cell_type": "markdown",
      "id": "UpPdnDHnUua7",
      "metadata": {
        "id": "UpPdnDHnUua7"
      },
      "source": [
        "Paste your API key to Wandb "
      ]
    },
    {
      "cell_type": "code",
      "execution_count": 8,
      "id": "220da554",
      "metadata": {
        "colab": {
          "base_uri": "https://localhost:8080/",
          "height": 124
        },
        "execution": {
          "iopub.execute_input": "2022-08-18T02:51:42.093675Z",
          "iopub.status.busy": "2022-08-18T02:51:42.093281Z",
          "iopub.status.idle": "2022-08-18T02:51:45.417953Z",
          "shell.execute_reply": "2022-08-18T02:51:45.416768Z"
        },
        "id": "220da554",
        "outputId": "6960657e-72ea-4c5a-ea6d-4dca7cdd4493",
        "papermill": {
          "duration": 4.20296,
          "end_time": "2022-08-18T02:51:45.420276",
          "exception": false,
          "start_time": "2022-08-18T02:51:41.217316",
          "status": "completed"
        },
        "tags": []
      },
      "outputs": [
        {
          "data": {
            "application/javascript": "\n        window._wandbApiKey = new Promise((resolve, reject) => {\n            function loadScript(url) {\n            return new Promise(function(resolve, reject) {\n                let newScript = document.createElement(\"script\");\n                newScript.onerror = reject;\n                newScript.onload = resolve;\n                document.body.appendChild(newScript);\n                newScript.src = url;\n            });\n            }\n            loadScript(\"https://cdn.jsdelivr.net/npm/postmate/build/postmate.min.js\").then(() => {\n            const iframe = document.createElement('iframe')\n            iframe.style.cssText = \"width:0;height:0;border:none\"\n            document.body.appendChild(iframe)\n            const handshake = new Postmate({\n                container: iframe,\n                url: 'https://wandb.ai/authorize'\n            });\n            const timeout = setTimeout(() => reject(\"Couldn't auto authenticate\"), 5000)\n            handshake.then(function(child) {\n                child.on('authorize', data => {\n                    clearTimeout(timeout)\n                    resolve(data)\n                });\n            });\n            })\n        });\n    ",
            "text/plain": [
              "<IPython.core.display.Javascript object>"
            ]
          },
          "metadata": {},
          "output_type": "display_data"
        },
        {
          "name": "stderr",
          "output_type": "stream",
          "text": [
            "\u001b[34m\u001b[1mwandb\u001b[0m: Logging into wandb.ai. (Learn how to deploy a W&B server locally: https://wandb.me/wandb-server)\n",
            "\u001b[34m\u001b[1mwandb\u001b[0m: You can find your API key in your browser here: https://wandb.ai/authorize\n",
            "wandb: Paste an API key from your profile and hit enter, or press ctrl+c to quit: "
          ]
        },
        {
          "name": "stdout",
          "output_type": "stream",
          "text": [
            "··········\n"
          ]
        },
        {
          "name": "stderr",
          "output_type": "stream",
          "text": [
            "\u001b[34m\u001b[1mwandb\u001b[0m: Appending key for api.wandb.ai to your netrc file: /root/.netrc\n"
          ]
        },
        {
          "data": {
            "text/plain": [
              "True"
            ]
          },
          "execution_count": 8,
          "metadata": {},
          "output_type": "execute_result"
        }
      ],
      "source": [
        "import wandb\n",
        "wandb.login()"
      ]
    },
    {
      "cell_type": "markdown",
      "id": "63f8d56c",
      "metadata": {
        "id": "63f8d56c",
        "papermill": {
          "duration": 1.030512,
          "end_time": "2022-08-18T02:51:47.453178",
          "exception": false,
          "start_time": "2022-08-18T02:51:46.422666",
          "status": "completed"
        },
        "tags": []
      },
      "source": [
        "## Train Command\n",
        "feel free to play around with epochs, batchsize, and all other kinds of perameters. \n",
        "the number of epochs here is narrowed down to 100 because of the limited runtim on colab(around 2hours max for free version. If you are using pro feel free to increase the epoch)"
      ]
    },
    {
      "cell_type": "code",
      "execution_count": null,
      "id": "5e44fb47",
      "metadata": {
        "colab": {
          "base_uri": "https://localhost:8080/"
        },
        "execution": {
          "iopub.execute_input": "2022-08-18T02:51:49.24016Z",
          "iopub.status.busy": "2022-08-18T02:51:49.239762Z",
          "iopub.status.idle": "2022-08-18T05:47:26.994902Z",
          "shell.execute_reply": "2022-08-18T05:47:26.993536Z"
        },
        "id": "5e44fb47",
        "outputId": "4b58b0d4-88ea-49c2-83ee-26c779461ec7",
        "papermill": {
          "duration": 10538.651345,
          "end_time": "2022-08-18T05:47:26.997729",
          "exception": false,
          "start_time": "2022-08-18T02:51:48.346384",
          "status": "completed"
        },
        "tags": []
      },
      "outputs": [
        {
          "name": "stdout",
          "output_type": "stream",
          "text": [
            "\u001b[34m\u001b[1mwandb\u001b[0m: Currently logged in as: \u001b[33mmichael_ovo\u001b[0m. Use \u001b[1m`wandb login --relogin`\u001b[0m to force relogin\n",
            "\u001b[34m\u001b[1mtrain: \u001b[0mweights=yolov5s.pt, cfg=./models/yolov5s.yaml, data=skin_burn_detection-9/data.yaml, hyp=data/hyps/hyp.scratch-low.yaml, epochs=100, batch_size=128, imgsz=416, rect=False, resume=False, nosave=False, noval=False, noautoanchor=False, noplots=False, evolve=None, bucket=, cache=ram, image_weights=False, device=, multi_scale=False, single_cls=False, optimizer=SGD, sync_bn=False, workers=8, project=runs/train, name=exp, exist_ok=False, quad=False, cos_lr=False, label_smoothing=0.0, patience=100, freeze=[0], save_period=-1, seed=0, local_rank=-1, entity=None, upload_dataset=False, bbox_interval=-1, artifact_alias=latest\n",
            "\u001b[34m\u001b[1mgithub: \u001b[0mup to date with https://github.com/ultralytics/yolov5 ✅\n",
            "YOLOv5 🚀 v6.2-13-gc0e7a77 Python-3.7.13 torch-1.12.1+cu113 CUDA:0 (Tesla T4, 15110MiB)\n",
            "\n",
            "\u001b[34m\u001b[1mhyperparameters: \u001b[0mlr0=0.01, lrf=0.01, momentum=0.937, weight_decay=0.0005, warmup_epochs=3.0, warmup_momentum=0.8, warmup_bias_lr=0.1, box=0.05, cls=0.5, cls_pw=1.0, obj=1.0, obj_pw=1.0, iou_t=0.2, anchor_t=4.0, fl_gamma=0.0, hsv_h=0.015, hsv_s=0.7, hsv_v=0.4, degrees=0.0, translate=0.1, scale=0.5, shear=0.0, perspective=0.0, flipud=0.0, fliplr=0.5, mosaic=1.0, mixup=0.0, copy_paste=0.0\n",
            "\u001b[34m\u001b[1mClearML: \u001b[0mrun 'pip install clearml' to automatically track, visualize and remotely train YOLOv5 🚀 in ClearML\n",
            "\u001b[34m\u001b[1mTensorBoard: \u001b[0mStart with 'tensorboard --logdir runs/train', view at http://localhost:6006/\n",
            "\u001b[34m\u001b[1mwandb\u001b[0m: Tracking run with wandb version 0.13.1\n",
            "\u001b[34m\u001b[1mwandb\u001b[0m: Run data is saved locally in \u001b[35m\u001b[1m/content/yolov5/wandb/run-20220818_142032-p6gjglco\u001b[0m\n",
            "\u001b[34m\u001b[1mwandb\u001b[0m: Run \u001b[1m`wandb offline`\u001b[0m to turn off syncing.\n",
            "\u001b[34m\u001b[1mwandb\u001b[0m: Syncing run \u001b[33mupbeat-wood-77\u001b[0m\n",
            "\u001b[34m\u001b[1mwandb\u001b[0m: ⭐️ View project at \u001b[34m\u001b[4mhttps://wandb.ai/michael_ovo/YOLOv5\u001b[0m\n",
            "\u001b[34m\u001b[1mwandb\u001b[0m: 🚀 View run at \u001b[34m\u001b[4mhttps://wandb.ai/michael_ovo/YOLOv5/runs/p6gjglco\u001b[0m\n",
            "Downloading https://ultralytics.com/assets/Arial.ttf to /root/.config/Ultralytics/Arial.ttf...\n",
            "100% 755k/755k [00:00<00:00, 83.7MB/s]\n",
            "YOLOv5 temporarily requires wandb version 0.12.10 or below. Some features may not work as expected.\n",
            "Downloading https://github.com/ultralytics/yolov5/releases/download/v6.2/yolov5s.pt to yolov5s.pt...\n",
            "100% 14.1M/14.1M [00:00<00:00, 181MB/s]\n",
            "\n",
            "Overriding model.yaml nc=80 with nc=3\n",
            "\n",
            "                 from  n    params  module                                  arguments                     \n",
            "  0                -1  1      3520  models.common.Conv                      [3, 32, 6, 2, 2]              \n",
            "  1                -1  1     18560  models.common.Conv                      [32, 64, 3, 2]                \n",
            "  2                -1  1     18816  models.common.C3                        [64, 64, 1]                   \n",
            "  3                -1  1     73984  models.common.Conv                      [64, 128, 3, 2]               \n",
            "  4                -1  2    115712  models.common.C3                        [128, 128, 2]                 \n",
            "  5                -1  1    295424  models.common.Conv                      [128, 256, 3, 2]              \n",
            "  6                -1  3    625152  models.common.C3                        [256, 256, 3]                 \n",
            "  7                -1  1   1180672  models.common.Conv                      [256, 512, 3, 2]              \n",
            "  8                -1  1   1182720  models.common.C3                        [512, 512, 1]                 \n",
            "  9                -1  1    656896  models.common.SPPF                      [512, 512, 5]                 \n",
            " 10                -1  1    131584  models.common.Conv                      [512, 256, 1, 1]              \n",
            " 11                -1  1         0  torch.nn.modules.upsampling.Upsample    [None, 2, 'nearest']          \n",
            " 12           [-1, 6]  1         0  models.common.Concat                    [1]                           \n",
            " 13                -1  1    361984  models.common.C3                        [512, 256, 1, False]          \n",
            " 14                -1  1     33024  models.common.Conv                      [256, 128, 1, 1]              \n",
            " 15                -1  1         0  torch.nn.modules.upsampling.Upsample    [None, 2, 'nearest']          \n",
            " 16           [-1, 4]  1         0  models.common.Concat                    [1]                           \n",
            " 17                -1  1     90880  models.common.C3                        [256, 128, 1, False]          \n",
            " 18                -1  1    147712  models.common.Conv                      [128, 128, 3, 2]              \n",
            " 19          [-1, 14]  1         0  models.common.Concat                    [1]                           \n",
            " 20                -1  1    296448  models.common.C3                        [256, 256, 1, False]          \n",
            " 21                -1  1    590336  models.common.Conv                      [256, 256, 3, 2]              \n",
            " 22          [-1, 10]  1         0  models.common.Concat                    [1]                           \n",
            " 23                -1  1   1182720  models.common.C3                        [512, 512, 1, False]          \n",
            " 24      [17, 20, 23]  1     21576  models.yolo.Detect                      [3, [[10, 13, 16, 30, 33, 23], [30, 61, 62, 45, 59, 119], [116, 90, 156, 198, 373, 326]], [128, 256, 512]]\n",
            "YOLOv5s summary: 270 layers, 7027720 parameters, 7027720 gradients, 16.0 GFLOPs\n",
            "\n",
            "Transferred 342/349 items from yolov5s.pt\n",
            "\u001b[34m\u001b[1mAMP: \u001b[0mchecks passed ✅\n",
            "\u001b[34m\u001b[1moptimizer:\u001b[0m SGD(lr=0.01) with parameter groups 57 weight(decay=0.0), 60 weight(decay=0.001), 60 bias\n",
            "\u001b[34m\u001b[1malbumentations: \u001b[0mBlur(p=0.01, blur_limit=(3, 7)), MedianBlur(p=0.01, blur_limit=(3, 7)), ToGray(p=0.01), CLAHE(p=0.01, clip_limit=(1, 4.0), tile_grid_size=(8, 8))\n",
            "\u001b[34m\u001b[1mtrain: \u001b[0mScanning '/content/yolov5/skin_burn_detection-9/train/labels' images and labels...2388 found, 0 missing, 0 empty, 0 corrupt: 100% 2388/2388 [00:01<00:00, 2121.15it/s]\n",
            "\u001b[34m\u001b[1mtrain: \u001b[0mNew cache created: /content/yolov5/skin_burn_detection-9/train/labels.cache\n",
            "\u001b[34m\u001b[1mtrain: \u001b[0mCaching images (1.2GB ram): 100% 2388/2388 [00:05<00:00, 454.55it/s]\n",
            "\u001b[34m\u001b[1mval: \u001b[0mScanning '/content/yolov5/skin_burn_detection-9/valid/labels' images and labels...226 found, 0 missing, 0 empty, 0 corrupt: 100% 226/226 [00:00<00:00, 976.49it/s]\n",
            "\u001b[34m\u001b[1mval: \u001b[0mNew cache created: /content/yolov5/skin_burn_detection-9/valid/labels.cache\n",
            "\u001b[34m\u001b[1mval: \u001b[0mCaching images (0.1GB ram): 100% 226/226 [00:01<00:00, 191.25it/s]\n",
            "Plotting labels to runs/train/exp/labels.jpg... \n",
            "\n",
            "\u001b[34m\u001b[1mAutoAnchor: \u001b[0m5.04 anchors/target, 1.000 Best Possible Recall (BPR). Current anchors are a good fit to dataset ✅\n",
            "Image sizes 416 train, 416 val\n",
            "Using 2 dataloader workers\n",
            "Logging results to \u001b[1mruns/train/exp\u001b[0m\n",
            "Starting training for 100 epochs...\n",
            "\n",
            "     Epoch   gpu_mem       box       obj       cls    labels  img_size\n",
            "      0/99     12.1G    0.1037   0.02798   0.03934       281       416: 100% 19/19 [00:17<00:00,  1.08it/s]\n",
            "               Class     Images     Labels          P          R     mAP@.5 mAP@.5:.95: 100% 1/1 [00:04<00:00,  4.04s/it]\n",
            "                 all        226        411    0.00318      0.545    0.00658    0.00145\n",
            "\n",
            "     Epoch   gpu_mem       box       obj       cls    labels  img_size\n",
            "      1/99     10.7G   0.08033   0.03385   0.03273       262       416: 100% 19/19 [00:13<00:00,  1.36it/s]\n",
            "               Class     Images     Labels          P          R     mAP@.5 mAP@.5:.95: 100% 1/1 [00:03<00:00,  3.18s/it]\n",
            "                 all        226        411     0.0564      0.145     0.0306    0.00832\n",
            "\n",
            "     Epoch   gpu_mem       box       obj       cls    labels  img_size\n",
            "      2/99     11.8G   0.06872   0.03305   0.02718       274       416: 100% 19/19 [00:14<00:00,  1.35it/s]\n",
            "               Class     Images     Labels          P          R     mAP@.5 mAP@.5:.95: 100% 1/1 [00:02<00:00,  2.88s/it]\n",
            "                 all        226        411     0.0909      0.205     0.0379    0.00858\n",
            "\n",
            "     Epoch   gpu_mem       box       obj       cls    labels  img_size\n",
            "      3/99     11.8G   0.06631   0.03229   0.02224       278       416: 100% 19/19 [00:13<00:00,  1.38it/s]\n",
            "               Class     Images     Labels          P          R     mAP@.5 mAP@.5:.95: 100% 1/1 [00:02<00:00,  2.88s/it]\n",
            "                 all        226        411     0.0975      0.272     0.0811     0.0261\n",
            "\n",
            "     Epoch   gpu_mem       box       obj       cls    labels  img_size\n",
            "      4/99     11.8G   0.06408   0.03075   0.01944       242       416: 100% 19/19 [00:14<00:00,  1.32it/s]\n",
            "               Class     Images     Labels          P          R     mAP@.5 mAP@.5:.95: 100% 1/1 [00:03<00:00,  3.50s/it]\n",
            "                 all        226        411      0.151       0.18     0.0784     0.0217\n",
            "\n",
            "     Epoch   gpu_mem       box       obj       cls    labels  img_size\n",
            "      5/99     11.8G   0.06191    0.0309   0.01766       274       416: 100% 19/19 [00:13<00:00,  1.36it/s]\n",
            "               Class     Images     Labels          P          R     mAP@.5 mAP@.5:.95: 100% 1/1 [00:02<00:00,  2.75s/it]\n",
            "                 all        226        411     0.0841      0.238     0.0613     0.0149\n",
            "\n",
            "     Epoch   gpu_mem       box       obj       cls    labels  img_size\n",
            "      6/99     11.8G   0.06004   0.03107   0.01657       322       416: 100% 19/19 [00:14<00:00,  1.35it/s]\n",
            "               Class     Images     Labels          P          R     mAP@.5 mAP@.5:.95: 100% 1/1 [00:02<00:00,  2.63s/it]\n",
            "                 all        226        411      0.364     0.0263     0.0148    0.00448\n",
            "\n",
            "     Epoch   gpu_mem       box       obj       cls    labels  img_size\n",
            "      7/99     11.8G   0.05792   0.03061   0.01622       291       416: 100% 19/19 [00:15<00:00,  1.23it/s]\n",
            "               Class     Images     Labels          P          R     mAP@.5 mAP@.5:.95: 100% 1/1 [00:02<00:00,  2.39s/it]\n",
            "                 all        226        411     0.0608      0.124     0.0225    0.00704\n",
            "\n",
            "     Epoch   gpu_mem       box       obj       cls    labels  img_size\n",
            "      8/99     11.8G   0.05688      0.03   0.01501       267       416: 100% 19/19 [00:14<00:00,  1.32it/s]\n",
            "               Class     Images     Labels          P          R     mAP@.5 mAP@.5:.95: 100% 1/1 [00:02<00:00,  2.58s/it]\n",
            "                 all        226        411      0.173      0.158     0.0754      0.023\n",
            "\n",
            "     Epoch   gpu_mem       box       obj       cls    labels  img_size\n",
            "      9/99     11.8G   0.05623   0.03031   0.01433       316       416: 100% 19/19 [00:14<00:00,  1.32it/s]\n",
            "               Class     Images     Labels          P          R     mAP@.5 mAP@.5:.95: 100% 1/1 [00:03<00:00,  3.80s/it]\n",
            "                 all        226        411      0.175      0.201     0.0851     0.0225\n",
            "\n",
            "     Epoch   gpu_mem       box       obj       cls    labels  img_size\n",
            "     10/99     11.8G    0.0556   0.03027   0.01336       239       416: 100% 19/19 [00:14<00:00,  1.32it/s]\n",
            "               Class     Images     Labels          P          R     mAP@.5 mAP@.5:.95: 100% 1/1 [00:02<00:00,  2.67s/it]\n",
            "                 all        226        411      0.214      0.219      0.126     0.0298\n",
            "\n",
            "     Epoch   gpu_mem       box       obj       cls    labels  img_size\n",
            "     11/99     11.8G   0.05491   0.02963   0.01241       284       416: 100% 19/19 [00:14<00:00,  1.30it/s]\n",
            "               Class     Images     Labels          P          R     mAP@.5 mAP@.5:.95: 100% 1/1 [00:02<00:00,  2.66s/it]\n",
            "                 all        226        411      0.166      0.248      0.126      0.033\n",
            "\n",
            "     Epoch   gpu_mem       box       obj       cls    labels  img_size\n",
            "     12/99     11.8G   0.05448   0.02974   0.01192       271       416: 100% 19/19 [00:14<00:00,  1.32it/s]\n",
            "               Class     Images     Labels          P          R     mAP@.5 mAP@.5:.95: 100% 1/1 [00:02<00:00,  2.58s/it]\n",
            "                 all        226        411       0.22      0.149     0.0981     0.0326\n",
            "\n",
            "     Epoch   gpu_mem       box       obj       cls    labels  img_size\n",
            "     13/99     11.8G   0.05354   0.02962   0.01158       281       416: 100% 19/19 [00:15<00:00,  1.21it/s]\n",
            "               Class     Images     Labels          P          R     mAP@.5 mAP@.5:.95: 100% 1/1 [00:02<00:00,  2.22s/it]\n",
            "                 all        226        411      0.233      0.234      0.144     0.0449\n",
            "\n",
            "     Epoch   gpu_mem       box       obj       cls    labels  img_size\n",
            "     14/99     11.8G    0.0527   0.02902   0.01039       253       416: 100% 19/19 [00:14<00:00,  1.32it/s]\n",
            "               Class     Images     Labels          P          R     mAP@.5 mAP@.5:.95: 100% 1/1 [00:02<00:00,  2.66s/it]\n",
            "                 all        226        411       0.21      0.241      0.136     0.0353\n",
            "\n",
            "     Epoch   gpu_mem       box       obj       cls    labels  img_size\n",
            "     15/99     11.8G   0.05153   0.02916   0.01021       292       416: 100% 19/19 [00:15<00:00,  1.23it/s]\n",
            "               Class     Images     Labels          P          R     mAP@.5 mAP@.5:.95: 100% 1/1 [00:02<00:00,  2.48s/it]\n",
            "                 all        226        411      0.225      0.287      0.175     0.0472\n",
            "\n",
            "     Epoch   gpu_mem       box       obj       cls    labels  img_size\n",
            "     16/99     11.8G   0.05168   0.02924  0.009678       278       416: 100% 19/19 [00:14<00:00,  1.31it/s]\n",
            "               Class     Images     Labels          P          R     mAP@.5 mAP@.5:.95: 100% 1/1 [00:02<00:00,  2.47s/it]\n",
            "                 all        226        411      0.257       0.26      0.158     0.0433\n",
            "\n",
            "     Epoch   gpu_mem       box       obj       cls    labels  img_size\n",
            "     17/99     11.8G   0.05108   0.02844  0.009394       277       416: 100% 19/19 [00:14<00:00,  1.30it/s]\n",
            "               Class     Images     Labels          P          R     mAP@.5 mAP@.5:.95: 100% 1/1 [00:02<00:00,  2.09s/it]\n",
            "                 all        226        411       0.31      0.196      0.151     0.0408\n",
            "\n",
            "     Epoch   gpu_mem       box       obj       cls    labels  img_size\n",
            "     18/99     11.8G   0.05013   0.02825  0.009168       270       416: 100% 19/19 [00:14<00:00,  1.35it/s]\n",
            "               Class     Images     Labels          P          R     mAP@.5 mAP@.5:.95: 100% 1/1 [00:02<00:00,  2.34s/it]\n",
            "                 all        226        411      0.293      0.251      0.184     0.0554\n",
            "\n",
            "     Epoch   gpu_mem       box       obj       cls    labels  img_size\n",
            "     19/99     11.8G   0.04959   0.02824  0.008784       252       416: 100% 19/19 [00:14<00:00,  1.31it/s]\n",
            "               Class     Images     Labels          P          R     mAP@.5 mAP@.5:.95: 100% 1/1 [00:03<00:00,  3.70s/it]\n",
            "                 all        226        411      0.259      0.261       0.17     0.0486\n",
            "\n",
            "     Epoch   gpu_mem       box       obj       cls    labels  img_size\n",
            "     20/99     11.8G   0.04936   0.02892   0.00775       228       416: 100% 19/19 [00:14<00:00,  1.29it/s]\n",
            "               Class     Images     Labels          P          R     mAP@.5 mAP@.5:.95: 100% 1/1 [00:02<00:00,  2.28s/it]\n",
            "                 all        226        411      0.287      0.208      0.151      0.039\n",
            "\n",
            "     Epoch   gpu_mem       box       obj       cls    labels  img_size\n",
            "     21/99     11.8G   0.04849   0.02784  0.007348       280       416: 100% 19/19 [00:15<00:00,  1.22it/s]\n",
            "               Class     Images     Labels          P          R     mAP@.5 mAP@.5:.95: 100% 1/1 [00:02<00:00,  2.48s/it]\n",
            "                 all        226        411       0.28      0.243      0.173       0.05\n",
            "\n",
            "     Epoch   gpu_mem       box       obj       cls    labels  img_size\n",
            "     22/99     11.8G    0.0475    0.0277  0.007033       288       416: 100% 19/19 [00:14<00:00,  1.31it/s]\n",
            "               Class     Images     Labels          P          R     mAP@.5 mAP@.5:.95: 100% 1/1 [00:02<00:00,  2.39s/it]\n",
            "                 all        226        411      0.297      0.239       0.17     0.0526\n",
            "\n",
            "     Epoch   gpu_mem       box       obj       cls    labels  img_size\n",
            "     23/99     11.8G   0.04709   0.02762  0.006565       253       416: 100% 19/19 [00:15<00:00,  1.22it/s]\n",
            "               Class     Images     Labels          P          R     mAP@.5 mAP@.5:.95: 100% 1/1 [00:02<00:00,  2.48s/it]\n",
            "                 all        226        411      0.264      0.264      0.147     0.0374\n",
            "\n",
            "     Epoch   gpu_mem       box       obj       cls    labels  img_size\n",
            "     24/99     11.8G   0.04704   0.02734   0.00715       296       416: 100% 19/19 [00:14<00:00,  1.28it/s]\n",
            "               Class     Images     Labels          P          R     mAP@.5 mAP@.5:.95: 100% 1/1 [00:02<00:00,  2.29s/it]\n",
            "                 all        226        411       0.23      0.256      0.154     0.0435\n",
            "\n",
            "     Epoch   gpu_mem       box       obj       cls    labels  img_size\n",
            "     25/99     11.8G   0.04624   0.02716  0.006757       291       416: 100% 19/19 [00:14<00:00,  1.32it/s]\n",
            "               Class     Images     Labels          P          R     mAP@.5 mAP@.5:.95: 100% 1/1 [00:02<00:00,  2.49s/it]\n",
            "                 all        226        411      0.279       0.25      0.167     0.0474\n",
            "\n",
            "     Epoch   gpu_mem       box       obj       cls    labels  img_size\n",
            "     26/99     11.8G    0.0459   0.02705   0.00656       286       416: 100% 19/19 [00:14<00:00,  1.35it/s]\n",
            "               Class     Images     Labels          P          R     mAP@.5 mAP@.5:.95: 100% 1/1 [00:02<00:00,  2.49s/it]\n",
            "                 all        226        411      0.295      0.216      0.147     0.0395\n",
            "\n",
            "     Epoch   gpu_mem       box       obj       cls    labels  img_size\n",
            "     27/99     11.8G   0.04594   0.02615  0.005838       255       416: 100% 19/19 [00:14<00:00,  1.30it/s]\n",
            "               Class     Images     Labels          P          R     mAP@.5 mAP@.5:.95: 100% 1/1 [00:02<00:00,  2.28s/it]\n",
            "                 all        226        411      0.299      0.243       0.17     0.0446\n",
            "\n",
            "     Epoch   gpu_mem       box       obj       cls    labels  img_size\n",
            "     28/99     11.8G   0.04511   0.02668  0.005781       272       416: 100% 19/19 [00:14<00:00,  1.34it/s]\n",
            "               Class     Images     Labels          P          R     mAP@.5 mAP@.5:.95: 100% 1/1 [00:02<00:00,  2.64s/it]\n",
            "                 all        226        411      0.306      0.224      0.168     0.0495\n",
            "\n",
            "     Epoch   gpu_mem       box       obj       cls    labels  img_size\n",
            "     29/99     11.8G   0.04486   0.02612  0.005888       265       416: 100% 19/19 [00:14<00:00,  1.29it/s]\n",
            "               Class     Images     Labels          P          R     mAP@.5 mAP@.5:.95: 100% 1/1 [00:04<00:00,  4.27s/it]\n",
            "                 all        226        411       0.36      0.203      0.165     0.0418\n",
            "\n",
            "     Epoch   gpu_mem       box       obj       cls    labels  img_size\n",
            "     30/99     11.8G   0.04397   0.02601  0.005911       268       416: 100% 19/19 [00:14<00:00,  1.32it/s]\n",
            "               Class     Images     Labels          P          R     mAP@.5 mAP@.5:.95: 100% 1/1 [00:02<00:00,  2.49s/it]\n",
            "                 all        226        411      0.335      0.195      0.154      0.041\n",
            "\n",
            "     Epoch   gpu_mem       box       obj       cls    labels  img_size\n",
            "     31/99     11.8G   0.04353   0.02603  0.005616       295       416: 100% 19/19 [00:14<00:00,  1.28it/s]\n",
            "               Class     Images     Labels          P          R     mAP@.5 mAP@.5:.95: 100% 1/1 [00:03<00:00,  3.31s/it]\n",
            "                 all        226        411      0.272      0.254       0.16     0.0416\n",
            "\n",
            "     Epoch   gpu_mem       box       obj       cls    labels  img_size\n",
            "     32/99     11.8G   0.04379   0.02852  0.005009       459       416:  11% 2/19 [00:01<00:11,  1.42it/s]"
          ]
        }
      ],
      "source": [
        "!python train.py --img 416 --epoch 100 --batch-size 128 --data skin_burn_detection-9/data.yaml --cfg ./models/yolov5s.yaml --name exp  --cache"
      ]
    },
    {
      "cell_type": "markdown",
      "id": "f43451b1",
      "metadata": {
        "id": "f43451b1",
        "papermill": {
          "duration": 1.713069,
          "end_time": "2022-08-18T05:47:30.138996",
          "exception": false,
          "start_time": "2022-08-18T05:47:28.425927",
          "status": "completed"
        },
        "tags": []
      },
      "source": [
        "## Run Inference\n",
        "After a sucess run(roughly around 5~6 hours if the model is trained for 500 epochs, the model will be saved inside runs/train/exp/weights/best.pt), looad that model and run an inference on the validation/test dataset with detect.py"
      ]
    },
    {
      "cell_type": "code",
      "execution_count": null,
      "id": "995e71fb",
      "metadata": {
        "execution": {
          "iopub.execute_input": "2022-08-18T05:47:32.96739Z",
          "iopub.status.busy": "2022-08-18T05:47:32.966137Z",
          "iopub.status.idle": "2022-08-18T05:47:44.570711Z",
          "shell.execute_reply": "2022-08-18T05:47:44.569448Z"
        },
        "id": "995e71fb",
        "papermill": {
          "duration": 12.972675,
          "end_time": "2022-08-18T05:47:44.573653",
          "exception": false,
          "start_time": "2022-08-18T05:47:31.600978",
          "status": "completed"
        },
        "tags": []
      },
      "outputs": [],
      "source": [
        "!python detect.py --weights runs/train/exp/weights/best.pt --img 416 --conf 0.3 --source skin_burn_detection-9/test/images/"
      ]
    },
    {
      "cell_type": "code",
      "execution_count": null,
      "id": "999c6f85",
      "metadata": {
        "execution": {
          "iopub.execute_input": "2022-08-18T05:47:47.56849Z",
          "iopub.status.busy": "2022-08-18T05:47:47.568075Z",
          "iopub.status.idle": "2022-08-18T05:47:48.109313Z",
          "shell.execute_reply": "2022-08-18T05:47:48.107971Z"
        },
        "id": "999c6f85",
        "papermill": {
          "duration": 2.034034,
          "end_time": "2022-08-18T05:47:48.127188",
          "exception": false,
          "start_time": "2022-08-18T05:47:46.093154",
          "status": "completed"
        },
        "tags": []
      },
      "outputs": [],
      "source": [
        "import glob\n",
        "from IPython.display import Image, display\n",
        "\n",
        "for imageName in glob.glob('runs/detect/exp/*.jpg'): #assuming JPG\n",
        "    display(Image(filename=imageName))\n",
        "    print(\"\\n\")"
      ]
    },
    {
      "cell_type": "markdown",
      "id": "af9e6d8c",
      "metadata": {
        "id": "af9e6d8c",
        "papermill": {
          "duration": 1.903008,
          "end_time": "2022-08-18T05:47:51.605718",
          "exception": false,
          "start_time": "2022-08-18T05:47:49.70271",
          "status": "completed"
        },
        "tags": []
      },
      "source": [
        "## When the training is complete, download the model file as well as the results"
      ]
    }
  ],
  "metadata": {
    "accelerator": "GPU",
    "colab": {
      "collapsed_sections": [],
      "include_colab_link": true,
      "name": "kaggle-skin-burn.ipynb",
      "provenance": []
    },
    "gpuClass": "standard",
    "kernelspec": {
      "display_name": "Python 3.8.8 ('base')",
      "language": "python",
      "name": "python3"
    },
    "language_info": {
      "codemirror_mode": {
        "name": "ipython",
        "version": 3
      },
      "file_extension": ".py",
      "mimetype": "text/x-python",
      "name": "python",
      "nbconvert_exporter": "python",
      "pygments_lexer": "ipython3",
      "version": "3.8.8"
    },
    "papermill": {
      "default_parameters": {},
      "duration": 10677.277774,
      "end_time": "2022-08-18T05:47:55.065167",
      "environment_variables": {},
      "exception": null,
      "input_path": "__notebook__.ipynb",
      "output_path": "__notebook__.ipynb",
      "parameters": {},
      "start_time": "2022-08-18T02:49:57.787393",
      "version": "2.3.4"
    },
    "vscode": {
      "interpreter": {
        "hash": "bb90da3ecb262877462381eba77438d9c2056584dc66ec7571c241a424291b20"
      }
    }
  },
  "nbformat": 4,
  "nbformat_minor": 5
}
